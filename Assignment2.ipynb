{
 "cells": [
  {
   "cell_type": "code",
   "execution_count": null,
   "id": "1e13713e-6cd3-4755-8c7f-f34a83b32862",
   "metadata": {},
   "outputs": [],
   "source": [
    "  \"\"\"Explain with an example each when to use a for loop and a while loop.\"\"\""
   ]
  },
  {
   "cell_type": "code",
   "execution_count": null,
   "id": "9798a4ec-4fd0-475c-a56d-393ac4424c1d",
   "metadata": {},
   "outputs": [],
   "source": [
    "For Loop: A for loop is an iteration method that is best used when you know the number of iterations ahead of time. It’s always followed by the initialization, expression and increment statements.\n",
    "\n",
    "\n",
    "While Loop: A while loop is an iteration method that is best used when you don't know the number of iterations ahead of time. The contents of the loop are executed as long as the expression evaluates to true."
   ]
  },
  {
   "cell_type": "code",
   "execution_count": null,
   "id": "cb3d7a7f-725b-4040-896b-4c1cc034161a",
   "metadata": {},
   "outputs": [],
   "source": [
    "\"\"\"Write a python program to print the sum and product of first ten natural odd numbers using for and while loop.\"\"\""
   ]
  },
  {
   "cell_type": "code",
   "execution_count": 7,
   "id": "b4fa7a9f-7bd2-4a80-aeb9-bccaad66b19e",
   "metadata": {},
   "outputs": [
    {
     "name": "stdout",
     "output_type": "stream",
     "text": [
      "1\n",
      "3\n",
      "6\n",
      "10\n",
      "15\n",
      "21\n",
      "28\n",
      "36\n",
      "45\n",
      "55\n"
     ]
    }
   ],
   "source": [
    "#write a python program to print the sum and product of the first 10 natural numbers using for and while loop\n",
    "sum = 0\n",
    "for i in range (1,11):\n",
    "    sum=sum+i\n",
    "    print(sum)"
   ]
  },
  {
   "cell_type": "code",
   "execution_count": 8,
   "id": "bd229d91-bd2b-4003-96be-c018187a9b6e",
   "metadata": {},
   "outputs": [
    {
     "name": "stdout",
     "output_type": "stream",
     "text": [
      "1\n",
      "3\n",
      "6\n",
      "10\n",
      "15\n",
      "21\n",
      "28\n",
      "36\n",
      "45\n",
      "55\n"
     ]
    }
   ],
   "source": [
    "#sum of natural numbers using while loop:-\n",
    "num = 0\n",
    "i = 1\n",
    "while i<=10:\n",
    "    num = num+i\n",
    "    i=i+1\n",
    "    print(num)"
   ]
  },
  {
   "cell_type": "code",
   "execution_count": 9,
   "id": "73d7cdeb-a1e4-4777-ac2e-4968f99d6432",
   "metadata": {},
   "outputs": [
    {
     "name": "stdout",
     "output_type": "stream",
     "text": [
      "1\n",
      "2\n",
      "6\n",
      "24\n",
      "120\n",
      "720\n",
      "5040\n",
      "40320\n",
      "362880\n",
      "3628800\n"
     ]
    }
   ],
   "source": [
    "#program to print product of first 10 natural numbers using for loop\n",
    "\n",
    "num = 1\n",
    "for i in range(1,11):\n",
    "    num = num*i\n",
    "    i=i+1\n",
    "    print(num)"
   ]
  },
  {
   "cell_type": "code",
   "execution_count": 10,
   "id": "f1eccfdb-3945-499f-b40f-cbcc76d70375",
   "metadata": {},
   "outputs": [
    {
     "name": "stdout",
     "output_type": "stream",
     "text": [
      "1\n",
      "2\n",
      "6\n",
      "24\n",
      "120\n",
      "720\n",
      "5040\n",
      "40320\n",
      "362880\n",
      "3628800\n"
     ]
    }
   ],
   "source": [
    "#program to print product of first 10 natural numbers using while loop\n",
    "\n",
    "num = 1\n",
    "i = 1\n",
    "while i<=10:\n",
    "    num = num*i\n",
    "    i = i+1\n",
    "    print(num)"
   ]
  },
  {
   "cell_type": "code",
   "execution_count": null,
   "id": "b5fd7525-33ed-410f-9173-4749de870cd8",
   "metadata": {},
   "outputs": [],
   "source": [
    "\"\"\"Create a python program to compute the electricity bill for a household.\n",
    "The per-unit charges in rupees are as follows: For the first 100 units, the user will be charged Rs. 4.5 per \n",
    "unit, for the next 100 units, the user will be charged Rs. 6 per unit, and for the next 100 units, the user will \n",
    "be charged Rs. 10 per unit, After 300 units and above the user will be charged Rs. 20 per unit.\n",
    "\n",
    "\n",
    "You are required to take the units of electricity consumed in a month from the user as input.\n",
    "\n",
    "\n",
    "Your program must pass this test case: when the unit of electricity consumed by the user in a month is \n",
    "310, the total electricity bill should be 2250.\"\"\""
   ]
  },
  {
   "cell_type": "code",
   "execution_count": null,
   "id": "f8fd5201-c2dc-4a89-a56f-11929276231c",
   "metadata": {},
   "outputs": [],
   "source": [
    "unit = float(input(\"Enter the units: \"))\n",
    "\n",
    "if unit<=100:\n",
    "    unit=unit*4.5\n",
    "    print(\"The amount you have to paid is: \",unit)\n",
    "elif 100 < unit <= 200 :\n",
    "    unit =  100*4.5 +  (unit-100)*6  \n",
    "    print(\"The amount you have to paid is: \",unit)\n",
    "elif 200 < unit <= 300:\n",
    "    unit = 100*4.5 + 100*6 + (unit-200)*10\n",
    "    print(\"The amount you have to paid is: \",unit)\n",
    "elif unit >300:\n",
    "    unit = 100*4.5 + 100*6 + 100*10 + (unit-300)*20\n",
    "    print(\"The amount you have to paid is: \",unit)\n",
    "        \n",
    "    \n",
    "    "
   ]
  },
  {
   "cell_type": "code",
   "execution_count": null,
   "id": "5338a873-1978-4ae1-a471-c67871446e9a",
   "metadata": {},
   "outputs": [],
   "source": [
    "\"\"\"Create a list of numbers from 1 to 100. Use for loop and while loop to calculate the cube of each \n",
    "number and if the cube of that number is divisible by 4 or 5 then append that number in a list and print \n",
    "that list\"\"\""
   ]
  },
  {
   "cell_type": "code",
   "execution_count": 21,
   "id": "54de30a1-5182-403d-9e4b-65b5c26bb32a",
   "metadata": {},
   "outputs": [
    {
     "name": "stdout",
     "output_type": "stream",
     "text": [
      "[2, 4, 5, 6, 8, 10, 12, 14, 15, 16, 18, 20, 22, 24, 25, 26, 28, 30, 32, 34, 35, 36, 38, 40, 42, 44, 45, 46, 48, 50, 52, 54, 55, 56, 58, 60, 62, 64, 65, 66, 68, 70, 72, 74, 75, 76, 78, 80, 82, 84, 85, 86, 88, 90, 92, 94, 95, 96, 98, 100]\n"
     ]
    }
   ],
   "source": [
    "l = []\n",
    "for i in range (1,101):\n",
    "    cube = i**3\n",
    "    if cube%4==0 or cube%5==0:\n",
    "        l.append(i)\n",
    "print(l)"
   ]
  },
  {
   "cell_type": "code",
   "execution_count": null,
   "id": "49e43b85-76a7-4a60-9683-45b6fca9ebeb",
   "metadata": {},
   "outputs": [],
   "source": [
    "l = []\n",
    "i = 1\n",
    "while i<=100:\n",
    "    cube = i**3\n",
    "    if cube%4==0 or cube%5==0:\n",
    "        l.append(i)\n",
    "    i = i+1\n",
    "print(l)"
   ]
  },
  {
   "cell_type": "code",
   "execution_count": null,
   "id": "d4d4b4eb-aba5-430a-8859-39cb611586a2",
   "metadata": {},
   "outputs": [],
   "source": [
    "\"\"\"Write a program to filter count vowels in the below-given string.\n",
    "\n",
    "string = \"I want to become a data scientist\"\"\""
   ]
  },
  {
   "cell_type": "code",
   "execution_count": 6,
   "id": "156228f7-788f-4d10-b6b9-2bc936cc2459",
   "metadata": {},
   "outputs": [
    {
     "name": "stdout",
     "output_type": "stream",
     "text": [
      "No. of vowels : 12\n"
     ]
    }
   ],
   "source": [
    "str = \"I want to become a data scientist\"\n",
    "vowel_count(str)\n",
    "def vowel_count(str):\n",
    "    count = 0\n",
    "    vowel = set(\"aeiouAEIOU\")\n",
    "    for alphabet in str:\n",
    "        if alphabet in vowel:\n",
    "            count = count + 1\n",
    "    print(\" No. of  Vowels :\", count)\n"
   ]
  },
  {
   "cell_type": "code",
   "execution_count": null,
   "id": "0adedc9e-396e-41f2-a070-29a2c940baf3",
   "metadata": {},
   "outputs": [],
   "source": []
  }
 ],
 "metadata": {
  "kernelspec": {
   "display_name": "Python 3 (ipykernel)",
   "language": "python",
   "name": "python3"
  },
  "language_info": {
   "codemirror_mode": {
    "name": "ipython",
    "version": 3
   },
   "file_extension": ".py",
   "mimetype": "text/x-python",
   "name": "python",
   "nbconvert_exporter": "python",
   "pygments_lexer": "ipython3",
   "version": "3.10.8"
  }
 },
 "nbformat": 4,
 "nbformat_minor": 5
}
